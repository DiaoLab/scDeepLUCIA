{
 "cells": [
  {
   "cell_type": "code",
   "execution_count": 2,
   "id": "3a9a4425",
   "metadata": {
    "tags": []
   },
   "outputs": [
    {
     "name": "stderr",
     "output_type": "stream",
     "text": [
      "2024-05-31 18:44:14.089865: E tensorflow/compiler/xla/stream_executor/cuda/cuda_dnn.cc:9360] Unable to register cuDNN factory: Attempting to register factory for plugin cuDNN when one has already been registered\n",
      "2024-05-31 18:44:14.091746: E tensorflow/compiler/xla/stream_executor/cuda/cuda_fft.cc:609] Unable to register cuFFT factory: Attempting to register factory for plugin cuFFT when one has already been registered\n",
      "2024-05-31 18:44:14.095167: E tensorflow/compiler/xla/stream_executor/cuda/cuda_blas.cc:1537] Unable to register cuBLAS factory: Attempting to register factory for plugin cuBLAS when one has already been registered\n",
      "2024-05-31 18:44:14.553319: I tensorflow/core/platform/cpu_feature_guard.cc:183] This TensorFlow binary is optimized to use available CPU instructions in performance-critical operations.\n",
      "To enable the following instructions: SSE3 SSE4.1 SSE4.2 AVX, in other operations, rebuild TensorFlow with the appropriate compiler flags.\n"
     ]
    }
   ],
   "source": [
    "import sys\n",
    "import gzip\n",
    "import itertools\n",
    "\n",
    "from pathlib import Path\n",
    "\n",
    "import numpy\n",
    "import pandas \n",
    "import tensorflow \n",
    "\n",
    "import matplotlib.pyplot as plt\n",
    "from sklearn import metrics\n",
    "\n",
    "from deeplucia_toolkit import make_dataset\n",
    "from deeplucia_toolkit import misc"
   ]
  },
  {
   "cell_type": "code",
   "execution_count": 3,
   "id": "5aacde08",
   "metadata": {
    "tags": []
   },
   "outputs": [],
   "source": [
    "resolution = 5000\n",
    "\n",
    "keras_model_filename = \"model/trained.h5\"\n",
    "chrom = \"chr10\"\n",
    "sample = \"B001\"\n",
    "\n",
    "scan_start = 0     # scan_start = 1000 # scan_start = 1000\n",
    "scan_end   = 26137 # scan_end   = 2000 # scan_end   = 1020\n",
    "\n",
    "marker_type = \"r2_030M\"\n",
    "genome_version = \"mm10\" \n",
    "\n",
    "feature_dirname =  Path.cwd() / \"feature\"\n",
    "result_dirname =  Path.cwd() / \"result\"\n",
    "result_dirname.mkdir(parents=True,exist_ok=True)\n",
    "\n",
    "prediction_filename = result_dirname / \"score.xls.gz\"\n",
    "loop_bedpe_filename = result_dirname / \"loop.bedpe\"\n",
    "\n",
    "positive_df_filename = feature_dirname / \"positive_loops/mm10/B001/positive_loop.chr10.txt\""
   ]
  },
  {
   "cell_type": "code",
   "execution_count": 4,
   "id": "ccd8bd21",
   "metadata": {
    "tags": []
   },
   "outputs": [
    {
     "name": "stderr",
     "output_type": "stream",
     "text": [
      "2024-05-31 18:44:36.153097: I tensorflow/core/common_runtime/gpu/gpu_device.cc:1883] Created device /job:localhost/replica:0/task:0/device:GPU:0 with 78827 MB memory:  -> device: 0, name: NVIDIA A100-SXM4-80GB, pci bus id: 0000:90:00.0, compute capability: 8.0\n"
     ]
    }
   ],
   "source": [
    "model = misc.load_model(keras_model_filename)"
   ]
  },
  {
   "cell_type": "code",
   "execution_count": 5,
   "id": "2e97d9b5",
   "metadata": {
    "tags": []
   },
   "outputs": [],
   "source": [
    "seq_array_dirname,epi_array_dirname,con_array_dirname = misc.get_directory(feature_dirname,chrom,sample,genome_version)\n",
    "chrom_sample = (chrom,sample)\n",
    "chrom_sample_list = [chrom_sample]\n",
    "\n",
    "chrom_to_seq_array = make_dataset.load_seq_array_dir(chrom_sample_list, seq_array_dirname)\n",
    "chrom_sample_to_epi_array = make_dataset.load_epi_array_dir(chrom_sample_list , marker_type , epi_array_dirname)\n",
    "chrom_sample_to_con_array = make_dataset.load_con_array_dir(chrom_sample_list , con_array_dirname)\n",
    "\n",
    "con_array = chrom_sample_to_con_array[chrom_sample]"
   ]
  },
  {
   "cell_type": "code",
   "execution_count": 6,
   "id": "34f9e429",
   "metadata": {
    "tags": []
   },
   "outputs": [],
   "source": [
    "scanning_loop_candidate_gen = make_dataset.gen_scanning_loop_candidate(chrom,sample,scan_start,scan_end)"
   ]
  },
  {
   "cell_type": "code",
   "execution_count": null,
   "id": "849d88db",
   "metadata": {
    "tags": []
   },
   "outputs": [],
   "source": [
    "pair_list = []\n",
    "prob_list = []\n",
    "\n",
    "for _,chunk in itertools.groupby(enumerate(scanning_loop_candidate_gen) , lambda x : x[0]//32768):\n",
    "    loop_candidate_list = []\n",
    "    for _,loop_candidate in chunk:\n",
    "        pair = loop_candidate[2]\n",
    "        loop_candidate_list.append(loop_candidate)\n",
    "        pair_list.append(pair)\n",
    "\n",
    "    batched_feature,_ = make_dataset.extract_seq_epi_dataset_nonshuffle(loop_candidate_list, chrom_to_seq_array, chrom_sample_to_epi_array)\n",
    "    output = model.predict(batched_feature)\n",
    "    batched_prob_pred = numpy.squeeze(output,axis=1)\n",
    "\n",
    "    for prob in batched_prob_pred:\n",
    "        prob_list.append(prob)\n"
   ]
  },
  {
   "cell_type": "code",
   "execution_count": null,
   "id": "64025524",
   "metadata": {
    "tags": []
   },
   "outputs": [],
   "source": [
    "if len(pair_list) == len(prob_list):\n",
    "    with gzip.open(prediction_filename,\"wt\") as prediction_file:\n",
    "        prediction_file.write(\"chrom\\tindex_one\\tindex_two\\tprob\\n\")\n",
    "        for pair,prob in zip(pair_list,prob_list):\n",
    "            prediction_file.write(\"\\t\".join(map(str,[chrom, pair[0],pair[1], prob])) + \"\\n\")\n"
   ]
  },
  {
   "cell_type": "code",
   "execution_count": 8,
   "id": "03c90da1",
   "metadata": {
    "tags": []
   },
   "outputs": [],
   "source": [
    "loop_df = pandas.read_table(prediction_filename)"
   ]
  },
  {
   "cell_type": "code",
   "execution_count": 9,
   "id": "e0f34595",
   "metadata": {
    "tags": []
   },
   "outputs": [],
   "source": [
    "dist_filtered_loop_df = misc.filter_by_distance(loop_df)"
   ]
  },
  {
   "cell_type": "code",
   "execution_count": 10,
   "id": "6b8ce86f",
   "metadata": {
    "tags": []
   },
   "outputs": [],
   "source": [
    "cutoff_filtered_loop_df = misc.filter_by_quantile(dist_filtered_loop_df,con_array)"
   ]
  },
  {
   "cell_type": "code",
   "execution_count": 11,
   "id": "f23bfa41",
   "metadata": {
    "tags": []
   },
   "outputs": [],
   "source": [
    "clustered_loop_df = misc.form_loop_cluster(cutoff_filtered_loop_df)"
   ]
  },
  {
   "cell_type": "code",
   "execution_count": 12,
   "id": "af4ba147",
   "metadata": {
    "tags": []
   },
   "outputs": [],
   "source": [
    "misc.save_as_bedpe(clustered_loop_df,chrom,resolution,loop_bedpe_filename)"
   ]
  },
  {
   "cell_type": "code",
   "execution_count": 13,
   "id": "44480f11",
   "metadata": {},
   "outputs": [],
   "source": [
    "positive_df = pandas.read_table(positive_df_filename)"
   ]
  },
  {
   "cell_type": "code",
   "execution_count": 14,
   "id": "5f8ad611",
   "metadata": {},
   "outputs": [],
   "source": [
    "labeled_loop_df = loop_df.merge(positive_df,how=\"left\",on =[\"index_one\",\"index_two\"])\n",
    "labeled_loop_df[\"is_loop\"] = numpy.where(labeled_loop_df[\"loop_id\"].isnull(), 0, 1)"
   ]
  },
  {
   "cell_type": "code",
   "execution_count": 15,
   "id": "61c4d27a",
   "metadata": {},
   "outputs": [],
   "source": [
    "fpr,tpr,threshold = metrics.roc_curve(labeled_loop_df[\"is_loop\"].values,labeled_loop_df[\"prob\"].values)\n",
    "au_ro_curve = metrics.roc_auc_score(labeled_loop_df[\"is_loop\"].values,labeled_loop_df[\"prob\"].values)"
   ]
  },
  {
   "cell_type": "code",
   "execution_count": 16,
   "id": "1b438586",
   "metadata": {},
   "outputs": [],
   "source": [
    "display = metrics.RocCurveDisplay(fpr=fpr, tpr=tpr, roc_auc=au_ro_curve,estimator_name='scDeepLUCIA')"
   ]
  },
  {
   "cell_type": "code",
   "execution_count": 17,
   "id": "b0f13b9c",
   "metadata": {},
   "outputs": [
    {
     "data": {
      "text/plain": [
       "<sklearn.metrics._plot.roc_curve.RocCurveDisplay at 0x7f8a00321ff0>"
      ]
     },
     "execution_count": 17,
     "metadata": {},
     "output_type": "execute_result"
    },
    {
     "data": {
      "image/png": "[encoded data removed]",
      "text/plain": [
       "<Figure size 640x480 with 1 Axes>"
      ]
     },
     "metadata": {},
     "output_type": "display_data"
    }
   ],
   "source": [
    "display.plot()"
   ]
  },
  {
   "cell_type": "code",
   "execution_count": null,
   "id": "1436bd57",
   "metadata": {},
   "outputs": [],
   "source": []
  },
  {
   "cell_type": "code",
   "execution_count": null,
   "id": "4110a762",
   "metadata": {},
   "outputs": [],
   "source": []
  },
  {
   "cell_type": "code",
   "execution_count": null,
   "id": "42645e2c",
   "metadata": {},
   "outputs": [],
   "source": []
  },
  {
   "cell_type": "code",
   "execution_count": null,
   "id": "2fd4ff48",
   "metadata": {},
   "outputs": [],
   "source": []
  },
  {
   "cell_type": "code",
   "execution_count": null,
   "id": "490ac72b",
   "metadata": {},
   "outputs": [],
   "source": []
  },
  {
   "cell_type": "code",
   "execution_count": null,
   "id": "18598370",
   "metadata": {},
   "outputs": [],
   "source": []
  }
 ],
 "metadata": {
  "kernelspec": {
   "display_name": "Python 3 (ipykernel)",
   "language": "python",
   "name": "python3"
  },
  "language_info": {
   "codemirror_mode": {
    "name": "ipython",
    "version": 3
   },
   "file_extension": ".py",
   "mimetype": "text/x-python",
   "name": "python",
   "nbconvert_exporter": "python",
   "pygments_lexer": "ipython3",
   "version": "3.10.12"
  }
 },
 "nbformat": 4,
 "nbformat_minor": 5
}
